{
 "cells": [
  {
   "cell_type": "markdown",
   "id": "99c4f6ae",
   "metadata": {},
   "source": [
    "# Computational Narrative: Analyzing Germany's Foreigner Data\n",
    "\n",
    " _Tauqeer Rumaney_\n",
    " \n",
    " Research Software Engineering: Project 1; <br>\n",
    " Faculty of Science; <br>\n",
    " University of Potsdam\n",
    " \n",
    " Correcpondence: tauqeer.kasam.rumaney@uni-potsdam.de"
   ]
  },
  {
   "cell_type": "markdown",
   "id": "1b8bb72f",
   "metadata": {},
   "source": [
    "## Abstract\n",
    "\n",
    "\n",
    "In this notebook, we delve into Germany's foreigners data over acourse of 56-year period i.e. from 1967 to 2023. Specifically, we analyze the [dataset](https://www-genesis.destatis.de/genesis/online?operation=abruftabelleBearbeiten&levelindex=1&levelid=1714648781409&auswahloperation=abruftabelleAuspraegungAuswaehlen&auswahlverzeichnis=ordnungsstruktur&auswahlziel=werteabruf&code=12521-0001&auswahltext=&nummer=4&variable=4&name=GES&werteabruf=Value+retrieval#abreadcrumb) provided by the German Federal Statistical Office. The dataset includes information on the number of male and female who ahve come to Germany across the years.\n",
    "\n",
    "### Keywords\n",
    "Germany, Foreigners, Population"
   ]
  },
  {
   "cell_type": "markdown",
   "id": "40c176d5",
   "metadata": {},
   "source": [
    "<hr>"
   ]
  },
  {
   "cell_type": "markdown",
   "id": "6ef4b439",
   "metadata": {},
   "source": [
    "## Dataset details and analysis"
   ]
  },
  {
   "cell_type": "markdown",
   "id": "b897eb83",
   "metadata": {},
   "source": [
    "Import the necessary libraries and modules"
   ]
  },
  {
   "cell_type": "code",
   "execution_count": 29,
   "id": "0814a3f2",
   "metadata": {},
   "outputs": [],
   "source": [
    "%load_ext pycodestyle_magic"
   ]
  },
  {
   "cell_type": "code",
   "execution_count": 30,
   "id": "83d41e89",
   "metadata": {},
   "outputs": [],
   "source": [
    "%pycodestyle_on"
   ]
  },
  {
   "cell_type": "code",
   "execution_count": 2,
   "id": "43aeaa2c",
   "metadata": {},
   "outputs": [],
   "source": [
    "import pandas as pd\n",
    "import matplotlib.pyplot as plt"
   ]
  },
  {
   "cell_type": "code",
   "execution_count": 3,
   "id": "0735dd28",
   "metadata": {},
   "outputs": [
    {
     "data": {
      "text/html": [
       "<div>\n",
       "<style scoped>\n",
       "    .dataframe tbody tr th:only-of-type {\n",
       "        vertical-align: middle;\n",
       "    }\n",
       "\n",
       "    .dataframe tbody tr th {\n",
       "        vertical-align: top;\n",
       "    }\n",
       "\n",
       "    .dataframe thead th {\n",
       "        text-align: right;\n",
       "    }\n",
       "</style>\n",
       "<table border=\"1\" class=\"dataframe\">\n",
       "  <thead>\n",
       "    <tr style=\"text-align: right;\">\n",
       "      <th></th>\n",
       "      <th>Year</th>\n",
       "      <th>Male</th>\n",
       "      <th>Female</th>\n",
       "      <th>Total</th>\n",
       "    </tr>\n",
       "  </thead>\n",
       "  <tbody>\n",
       "    <tr>\n",
       "      <th>1</th>\n",
       "      <td>1967</td>\n",
       "      <td>1,208,319</td>\n",
       "      <td>598,334</td>\n",
       "      <td>1,806,653</td>\n",
       "    </tr>\n",
       "    <tr>\n",
       "      <th>2</th>\n",
       "      <td>1968</td>\n",
       "      <td>1,257,310</td>\n",
       "      <td>666,919</td>\n",
       "      <td>1,924,229</td>\n",
       "    </tr>\n",
       "    <tr>\n",
       "      <th>3</th>\n",
       "      <td>1969</td>\n",
       "      <td>1,519,125</td>\n",
       "      <td>861,936</td>\n",
       "      <td>2,381,061</td>\n",
       "    </tr>\n",
       "    <tr>\n",
       "      <th>4</th>\n",
       "      <td>1970</td>\n",
       "      <td>1,884,203</td>\n",
       "      <td>1,092,294</td>\n",
       "      <td>2,976,497</td>\n",
       "    </tr>\n",
       "    <tr>\n",
       "      <th>5</th>\n",
       "      <td>1971</td>\n",
       "      <td>2,159,684</td>\n",
       "      <td>1,279,027</td>\n",
       "      <td>3,438,711</td>\n",
       "    </tr>\n",
       "  </tbody>\n",
       "</table>\n",
       "</div>"
      ],
      "text/plain": [
       "   Year       Male     Female      Total\n",
       "1  1967  1,208,319    598,334  1,806,653\n",
       "2  1968  1,257,310    666,919  1,924,229\n",
       "3  1969  1,519,125    861,936  2,381,061\n",
       "4  1970  1,884,203  1,092,294  2,976,497\n",
       "5  1971  2,159,684  1,279,027  3,438,711"
      ]
     },
     "execution_count": 3,
     "metadata": {},
     "output_type": "execute_result"
    }
   ],
   "source": [
    "# Reading the dataset\n",
    "DATAFILE_PATH = '~/Downloads/cleaned_dataset.xlsx'\n",
    "\n",
    "# Read and formatting the dataset\n",
    "df = pd.read_excel(DATAFILE_PATH)\n",
    "df.columns = ['Year', 'Male', 'Female', 'Total']\n",
    "df = df[1:]\n",
    "df['Male'] = df['Male'].apply(lambda x: \"{:,}\".format(x))\n",
    "df['Female'] = df['Female'].apply(lambda x: \"{:,}\".format(x))\n",
    "df['Total'] = df['Total'].apply(lambda x: \"{:,}\".format(x))\n",
    "\n",
    "# Display the first 2 rows of the data (optional)\n",
    "df.head(5)"
   ]
  },
  {
   "cell_type": "markdown",
   "id": "023867d8",
   "metadata": {},
   "source": [
    "The original dataset contained dates but i converted into year for simplicity purposes. "
   ]
  },
  {
   "cell_type": "markdown",
   "id": "c5c598a5",
   "metadata": {},
   "source": [
    "#### Analyzing the columns"
   ]
  },
  {
   "cell_type": "code",
   "execution_count": 4,
   "id": "948a1d0a",
   "metadata": {},
   "outputs": [
    {
     "name": "stdout",
     "output_type": "stream",
     "text": [
      "<class 'pandas.core.frame.DataFrame'>\n",
      "RangeIndex: 57 entries, 1 to 57\n",
      "Data columns (total 4 columns):\n",
      " #   Column  Non-Null Count  Dtype \n",
      "---  ------  --------------  ----- \n",
      " 0   Year    57 non-null     object\n",
      " 1   Male    57 non-null     object\n",
      " 2   Female  57 non-null     object\n",
      " 3   Total   57 non-null     object\n",
      "dtypes: object(4)\n",
      "memory usage: 1.9+ KB\n",
      "None\n"
     ]
    }
   ],
   "source": [
    "# Displaying information about the dataset\n",
    "print(df.info())"
   ]
  },
  {
   "cell_type": "code",
   "execution_count": 5,
   "id": "884ddaae",
   "metadata": {},
   "outputs": [
    {
     "data": {
      "text/html": [
       "<div>\n",
       "<style scoped>\n",
       "    .dataframe tbody tr th:only-of-type {\n",
       "        vertical-align: middle;\n",
       "    }\n",
       "\n",
       "    .dataframe tbody tr th {\n",
       "        vertical-align: top;\n",
       "    }\n",
       "\n",
       "    .dataframe thead th {\n",
       "        text-align: right;\n",
       "    }\n",
       "</style>\n",
       "<table border=\"1\" class=\"dataframe\">\n",
       "  <thead>\n",
       "    <tr style=\"text-align: right;\">\n",
       "      <th></th>\n",
       "      <th>Year</th>\n",
       "      <th>Male</th>\n",
       "      <th>Female</th>\n",
       "      <th>Total</th>\n",
       "    </tr>\n",
       "  </thead>\n",
       "  <tbody>\n",
       "    <tr>\n",
       "      <th>count</th>\n",
       "      <td>57</td>\n",
       "      <td>57</td>\n",
       "      <td>57</td>\n",
       "      <td>57</td>\n",
       "    </tr>\n",
       "    <tr>\n",
       "      <th>unique</th>\n",
       "      <td>57</td>\n",
       "      <td>57</td>\n",
       "      <td>57</td>\n",
       "      <td>57</td>\n",
       "    </tr>\n",
       "    <tr>\n",
       "      <th>top</th>\n",
       "      <td>1967</td>\n",
       "      <td>1,208,319</td>\n",
       "      <td>598,334</td>\n",
       "      <td>1,806,653</td>\n",
       "    </tr>\n",
       "    <tr>\n",
       "      <th>freq</th>\n",
       "      <td>1</td>\n",
       "      <td>1</td>\n",
       "      <td>1</td>\n",
       "      <td>1</td>\n",
       "    </tr>\n",
       "  </tbody>\n",
       "</table>\n",
       "</div>"
      ],
      "text/plain": [
       "        Year       Male   Female      Total\n",
       "count     57         57       57         57\n",
       "unique    57         57       57         57\n",
       "top     1967  1,208,319  598,334  1,806,653\n",
       "freq       1          1        1          1"
      ]
     },
     "execution_count": 5,
     "metadata": {},
     "output_type": "execute_result"
    }
   ],
   "source": [
    "# Generate some descriptive statistics for the dataset\n",
    "df.describe()"
   ]
  },
  {
   "cell_type": "code",
   "execution_count": 6,
   "id": "376e3062",
   "metadata": {},
   "outputs": [
    {
     "name": "stdout",
     "output_type": "stream",
     "text": [
      "<class 'pandas.core.frame.DataFrame'>\n",
      "RangeIndex: 57 entries, 1 to 57\n",
      "Data columns (total 4 columns):\n",
      " #   Column  Non-Null Count  Dtype \n",
      "---  ------  --------------  ----- \n",
      " 0   Year    57 non-null     object\n",
      " 1   Male    57 non-null     int64 \n",
      " 2   Female  57 non-null     int64 \n",
      " 3   Total   57 non-null     int64 \n",
      "dtypes: int64(3), object(1)\n",
      "memory usage: 1.9+ KB\n",
      "None\n"
     ]
    }
   ],
   "source": [
    "df['Male'] = df['Male'].str.replace(',', '').astype(int)\n",
    "df['Female'] = df['Female'].str.replace(',', '').astype(int)\n",
    "df['Total'] = df['Total'].str.replace(',', '').astype(int)\n",
    "print(df.info())"
   ]
  },
  {
   "cell_type": "markdown",
   "id": "0bca5ce5",
   "metadata": {},
   "source": [
    "We notice that their is no missing values, hence we can start answering our research questions."
   ]
  },
  {
   "cell_type": "markdown",
   "id": "28868bd3",
   "metadata": {},
   "source": [
    "### Q.1 How has the total foreign population in Germany grown between 1967 and 2023?"
   ]
  },
  {
   "cell_type": "code",
   "execution_count": 7,
   "id": "be1f196e",
   "metadata": {},
   "outputs": [
    {
     "name": "stdout",
     "output_type": "stream",
     "text": [
      "Total foreign population in Germany between 1967 and 2023: 366,676,302\n"
     ]
    }
   ],
   "source": [
    "# Calculate the total foreign population for each year\n",
    "total_foreign_population = df['Total'].sum()\n",
    "formatted_population = \"{:,}\".format(total_foreign_population)\n",
    "print(\"Total foreign population in Germany between 1967 and 2023:\",\n",
    "      formatted_population)"
   ]
  },
  {
   "cell_type": "code",
   "execution_count": 8,
   "id": "6fdc371d",
   "metadata": {},
   "outputs": [
    {
     "data": {
      "image/png": "[encoded data removed]",
      "text/plain": [
       "<Figure size 720x432 with 1 Axes>"
      ]
     },
     "metadata": {
      "needs_background": "light"
     },
     "output_type": "display_data"
    }
   ],
   "source": [
    "# Plotting the data\n",
    "plt.figure(figsize=(10, 6))\n",
    "plt.plot(df['Year'], df['Total'], marker='o', color='b', linestyle='-')\n",
    "\n",
    "# Adding labels and title\n",
    "plt.xlabel('Year')\n",
    "plt.ylabel('Total Foreign Population (in million)')\n",
    "plt.title('Yearly Foreign Population in Germany (1967-2023)')\n",
    "\n",
    "# Display the plot\n",
    "plt.grid(True)\n",
    "plt.xticks(rotation=45)\n",
    "plt.tight_layout()\n",
    "plt.show()"
   ]
  },
  {
   "cell_type": "markdown",
   "id": "81e66430",
   "metadata": {},
   "source": [
    "As you can see from the graph, the numbers of foreigners coming to Germany increase steadily till 2004, then dropped a bit till 2012, and then started increasing in healthy manner."
   ]
  },
  {
   "cell_type": "markdown",
   "id": "5f2f95d2",
   "metadata": {},
   "source": [
    "### Q.2 Has the gender balance among foreign residents shifted significantly during this period?"
   ]
  },
  {
   "cell_type": "code",
   "execution_count": 9,
   "id": "a71adc76",
   "metadata": {},
   "outputs": [
    {
     "name": "stdout",
     "output_type": "stream",
     "text": [
      "Percentage of male foreign residents: 54.88330378770024\n",
      "Percentage of female foreign residents: 45.11669621229976\n"
     ]
    }
   ],
   "source": [
    "# Calculate the total male and female foreign population for each year\n",
    "total_male_population = df['Male'].sum()\n",
    "total_female_population = df['Female'].sum()\n",
    "\n",
    "# Calculate the percentage of male and female foreign population\n",
    "total_population = total_male_population + total_female_population\n",
    "male_percentage = (total_male_population / total_population) * 100\n",
    "female_percentage = (total_female_population / total_population) * 100\n",
    "\n",
    "print(\"Percentage of male foreign residents:\", male_percentage)\n",
    "print(\"Percentage of female foreign residents:\", female_percentage)"
   ]
  },
  {
   "cell_type": "code",
   "execution_count": 10,
   "id": "7eff123f",
   "metadata": {},
   "outputs": [
    {
     "data": {
      "image/png": "[encoded data removed]",
      "text/plain": [
       "<Figure size 720x432 with 1 Axes>"
      ]
     },
     "metadata": {
      "needs_background": "light"
     },
     "output_type": "display_data"
    }
   ],
   "source": [
    "# Calculate the total male and female foreign population for each year\n",
    "total_population_per_year = df[['Male', 'Female']].sum(axis=1)\n",
    "\n",
    "# Calculate the percentage of male and female foreign population for each year\n",
    "df['Male_Percentage'] = (df['Male'] / total_population_per_year) * 100\n",
    "df['Female_Percentage'] = (df['Female'] / total_population_per_year) * 100\n",
    "\n",
    "# Plotting the data\n",
    "plt.figure(figsize=(10, 6))\n",
    "plt.bar(df['Year'], df['Male_Percentage'], label='Male', color='blue')\n",
    "plt.bar(df['Year'], df['Female_Percentage'], bottom=df['Male_Percentage'],\n",
    "        label='Female', color='red')\n",
    "\n",
    "# Adding labels and title\n",
    "plt.xlabel('Year')\n",
    "plt.ylabel('Percentage of Population')\n",
    "plt.title('Gender Distribution among Foreign Residents in Germany')\n",
    "plt.legend()\n",
    "\n",
    "# Display the plot\n",
    "plt.grid(True)\n",
    "plt.xticks(rotation=45)\n",
    "plt.tight_layout()\n",
    "plt.show()"
   ]
  },
  {
   "cell_type": "markdown",
   "id": "2ab78a42",
   "metadata": {},
   "source": [
    "The male to female ratio in initial years was more than 60:40, but then it has slowly started decreasing since then and it's close to 50:50 since 2004 onwards but the gap has risen to close to 55:45 in recent years."
   ]
  },
  {
   "cell_type": "markdown",
   "id": "3b14278f",
   "metadata": {},
   "source": [
    "### Q.3 Are there specific years with a surge in foreigners for either men or women?"
   ]
  },
  {
   "cell_type": "code",
   "execution_count": 11,
   "id": "6e793cb2",
   "metadata": {},
   "outputs": [
    {
     "name": "stdout",
     "output_type": "stream",
     "text": [
      "Year with the maximum increase in male population: 2022\n",
      "Year with the maximum increase in female population: 2022\n"
     ]
    }
   ],
   "source": [
    "# Calculate the difference in foreign population between consecutive years\n",
    "# for males and females\n",
    "df['Male_Diff'] = df['Male'].diff()\n",
    "df['Female_Diff'] = df['Female'].diff()\n",
    "\n",
    "# Find the year with the maximum increase in male and female population\n",
    "max_male_increase_year = df.loc[df['Male_Diff'].idxmax(), 'Year']\n",
    "max_female_increase_year = df.loc[df['Female_Diff'].idxmax(), 'Year']\n",
    "\n",
    "print(\"Year with the maximum increase in male population:\",\n",
    "      max_male_increase_year)\n",
    "print(\"Year with the maximum increase in female population:\",\n",
    "      max_female_increase_year)"
   ]
  },
  {
   "cell_type": "code",
   "execution_count": 12,
   "id": "cb6878f9",
   "metadata": {},
   "outputs": [
    {
     "name": "stdout",
     "output_type": "stream",
     "text": [
      "   Year Male_Growth_Category Female_Growth_Category\n",
      "1  1967          High Growth            High Growth\n",
      "2  1968           Low Growth          Medium Growth\n",
      "3  1969          High Growth            High Growth\n",
      "4  1970          High Growth            High Growth\n",
      "5  1971        Medium Growth            High Growth\n"
     ]
    }
   ],
   "source": [
    "# Calculate year-to-year percentage change for male and female population\n",
    "\n",
    "df['Male_Change_Pct'] = df['Male'].pct_change() * 100\n",
    "df['Female_Change_Pct'] = df['Female'].pct_change() * 100\n",
    "\n",
    "# Define thresholds based on quartiles\n",
    "thresholds = df[['Male_Change_Pct', 'Female_Change_Pct']].quantile(\n",
    "    [0.25, 0.75])\n",
    "\n",
    "\n",
    "# Define a function to categorize growth based on thresholds\n",
    "def categorize_growth(change_pct, thresholds):\n",
    "    if change_pct <= 5:\n",
    "        return \"Low Growth\"\n",
    "    elif change_pct <= 15:\n",
    "        return \"Medium Growth\"\n",
    "    else:\n",
    "        return \"High Growth\"\n",
    "\n",
    "\n",
    "# Apply categorization function to create new columns\n",
    "df['Male_Growth_Category'] = df['Male_Change_Pct'].apply(categorize_growth, thresholds=thresholds.iloc[0])\n",
    "df['Female_Growth_Category'] = df['Female_Change_Pct'].apply(categorize_growth, thresholds=thresholds.iloc[1])\n",
    "\n",
    "# Print a sample of the resulting DataFrame\n",
    "print(df[['Year', 'Male_Growth_Category', 'Female_Growth_Category']].head())"
   ]
  },
  {
   "cell_type": "code",
   "execution_count": 13,
   "id": "8fcbae32",
   "metadata": {},
   "outputs": [
    {
     "data": {
      "image/png": "[encoded data removed]",
      "text/plain": [
       "<Figure size 720x432 with 1 Axes>"
      ]
     },
     "metadata": {
      "needs_background": "light"
     },
     "output_type": "display_data"
    }
   ],
   "source": [
    "# Plotting the data\n",
    "plt.figure(figsize=(10, 6))\n",
    "plt.plot(df['Year'], df['Male_Diff'], marker='o', color='blue',\n",
    "         label='Male Difference')\n",
    "plt.plot(df['Year'], df['Female_Diff'], marker='o', color='red',\n",
    "         label='Female Difference')\n",
    "\n",
    "# Adding labels and title\n",
    "plt.xlabel('Year')\n",
    "plt.ylabel('Population Change')\n",
    "plt.title('Population Change (Year-to-Year) for Men and Women')\n",
    "plt.legend()\n",
    "\n",
    "# Display the plot\n",
    "plt.grid(True)\n",
    "plt.xticks(rotation=45)\n",
    "plt.tight_layout()\n",
    "plt.show()"
   ]
  },
  {
   "cell_type": "markdown",
   "id": "4dec8a58",
   "metadata": {},
   "source": [
    "The year 2022 saw the highest surge in people coming to Germany, it could be attributed to covid relaxations."
   ]
  },
  {
   "cell_type": "markdown",
   "id": "b156e096",
   "metadata": {},
   "source": [
    "### Q.4 Are there decades where one gender consistently came to Germany at a higher rate than the other?"
   ]
  },
  {
   "cell_type": "code",
   "execution_count": 14,
   "id": "5dc3280b",
   "metadata": {},
   "outputs": [
    {
     "name": "stdout",
     "output_type": "stream",
     "text": [
      "      Male_Percentage  Female_Percentage\n",
      "Year                                    \n",
      "1960        65.196190          34.803810\n",
      "1970        60.366944          39.633056\n",
      "1980        57.114172          42.885828\n",
      "1990        56.025011          43.974989\n",
      "2000        52.398685          47.601315\n",
      "2010        52.883905          47.116095\n",
      "2020        52.880134          47.119866\n"
     ]
    }
   ],
   "source": [
    "# Group the data by decade and calculate the total\n",
    "# male and female foreign population for each decade\n",
    "decade_data = df.groupby((df['Year'] // 10) * 10).sum()\n",
    "\n",
    "# Calculate the percentage of male and female\n",
    "# foreign population for each decade\n",
    "decade_data['Male_Percentage'] = (decade_data['Male'] / (decade_data['Male']\n",
    "                                  + decade_data['Female'])) * 100\n",
    "decade_data['Female_Percentage'] = (decade_data['Female'] /\n",
    "                        (decade_data['Male'] + decade_data['Female'])) * 100\n",
    "\n",
    "print(decade_data[['Male_Percentage', 'Female_Percentage']])"
   ]
  },
  {
   "cell_type": "code",
   "execution_count": 15,
   "id": "f7270a10",
   "metadata": {},
   "outputs": [
    {
     "data": {
      "image/png": "[encoded data removed]",
      "text/plain": [
       "<Figure size 720x432 with 1 Axes>"
      ]
     },
     "metadata": {
      "needs_background": "light"
     },
     "output_type": "display_data"
    }
   ],
   "source": [
    "# Plotting the data\n",
    "plt.figure(figsize=(10, 6))\n",
    "bar_width = 0.35\n",
    "index = decade_data.index\n",
    "plt.bar(index, decade_data['Male_Percentage'], bar_width,\n",
    "        label='Male', color='blue')\n",
    "plt.bar(index, decade_data['Female_Percentage'], bar_width,\n",
    "        bottom=decade_data['Male_Percentage'], label='Female', color='red')\n",
    "\n",
    "# Adding labels and title\n",
    "plt.xlabel('Decade')\n",
    "plt.ylabel('Percentage of Population')\n",
    "plt.title('Gender Distribution among Foreign Residents by Decade')\n",
    "plt.xticks(index, index)\n",
    "plt.legend()\n",
    "\n",
    "# Display the plot\n",
    "plt.grid(True)\n",
    "plt.tight_layout()\n",
    "plt.show()"
   ]
  },
  {
   "cell_type": "markdown",
   "id": "1c114124",
   "metadata": {},
   "source": [
    "In 1960s and 1970s, there was upto 20% difference between male and female population, but it has came to 10% in 2020s. It was about equal in early 2000."
   ]
  },
  {
   "cell_type": "markdown",
   "id": "3fea62ad",
   "metadata": {},
   "source": [
    "### Q.5 Identify the top 5 years with the highest total foreign population."
   ]
  },
  {
   "cell_type": "code",
   "execution_count": 31,
   "id": "31645946",
   "metadata": {},
   "outputs": [
    {
     "name": "stdout",
     "output_type": "stream",
     "text": [
      "Top 5 Years with Most Foreigners:\n",
      "    Year     Total\n",
      "57  2023  13895865\n",
      "56  2022  13383910\n",
      "55  2021  11817790\n",
      "54  2020  11432460\n",
      "53  2019  11228300\n"
     ]
    }
   ],
   "source": [
    "df_sorted = df.sort_values(by='Total', ascending=False)\n",
    "top_5_years = df_sorted.head(5)\n",
    "print(\"Top 5 Years with Most Foreigners:\")\n",
    "print(top_5_years[['Year', 'Total']])"
   ]
  },
  {
   "cell_type": "markdown",
   "id": "2bc43e62",
   "metadata": {},
   "source": [
    "As expected, the trend of increase population is folllowed i.e. as the years progress from 2019 to 2023, the total number of foreigners is also increasing. It's surprising that even in cvid years, there wasn't any decrease in foreign population."
   ]
  },
  {
   "cell_type": "markdown",
   "id": "3d244c8e",
   "metadata": {},
   "source": [
    "## Summary\n",
    "\n",
    "This analysis explores trends in foreign residents of Germany using data on male and female populations from 1967 to 2023. We found out that about the numbers of foreigners coming to Germany and what was growth percentage per year. We also explored male to female ration to see what was the distribution of people coming to germany and the trend in male to female ration. Additionally, we examined which year had the most increase in population spike and we found out that it was in year 2022 and most likely reason for it was covid restriction being removed.\n",
    "\n",
    "\n",
    "\n",
    "\n"
   ]
  },
  {
   "cell_type": "markdown",
   "id": "09dec329",
   "metadata": {},
   "source": [
    "## References & additional resources"
   ]
  },
  {
   "cell_type": "markdown",
   "id": "97a876ec",
   "metadata": {},
   "source": [
    "Dataset: \"51000-0007: Aus- und Einfuhr (Außenhandel): Deutschland, Jahre, Länder,\n",
    "Warensystematik\", [Statistisches Bundesamt Deutschland](https://www-genesis.destatis.de/genesis//online?operation=table&code=12521-0001&bypass=true&levelindex=0&levelid=1714947487085#abreadcrumb), Accessed in May 2024."
   ]
  }
 ],
 "metadata": {
  "kernelspec": {
   "display_name": "Python 3 (ipykernel)",
   "language": "python",
   "name": "python3"
  },
  "language_info": {
   "codemirror_mode": {
    "name": "ipython",
    "version": 3
   },
   "file_extension": ".py",
   "mimetype": "text/x-python",
   "name": "python",
   "nbconvert_exporter": "python",
   "pygments_lexer": "ipython3",
   "version": "3.9.18"
  }
 },
 "nbformat": 4,
 "nbformat_minor": 5
}
